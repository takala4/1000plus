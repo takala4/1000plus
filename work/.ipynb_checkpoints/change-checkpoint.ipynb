{
 "cells": [
  {
   "cell_type": "code",
   "execution_count": 1,
   "metadata": {},
   "outputs": [],
   "source": [
    "import glob\n",
    "import re\n",
    "import datetime"
   ]
  },
  {
   "cell_type": "code",
   "execution_count": 2,
   "metadata": {},
   "outputs": [],
   "source": [
    "file_name_list = glob.glob('C:/Users/TAKALA/Documents/1000plus/diary_md/*.*')"
   ]
  },
  {
   "cell_type": "code",
   "execution_count": null,
   "metadata": {},
   "outputs": [],
   "source": []
  },
  {
   "cell_type": "code",
   "execution_count": 3,
   "metadata": {},
   "outputs": [
    {
     "ename": "NameError",
     "evalue": "name 'date_str' is not defined",
     "output_type": "error",
     "traceback": [
      "\u001b[1;31m----------------------------------------------------------\u001b[0m",
      "\u001b[1;31mNameError\u001b[0m                Traceback (most recent call last)",
      "\u001b[1;32m<ipython-input-3-4e382d7fcba6>\u001b[0m in \u001b[0;36m<module>\u001b[1;34m\u001b[0m\n\u001b[1;32m----> 1\u001b[1;33m \u001b[0myear\u001b[0m \u001b[1;33m=\u001b[0m \u001b[0mint\u001b[0m\u001b[1;33m(\u001b[0m\u001b[0mdate_str\u001b[0m\u001b[1;33m[\u001b[0m\u001b[1;33m:\u001b[0m\u001b[1;36m4\u001b[0m\u001b[1;33m:\u001b[0m\u001b[1;33m]\u001b[0m\u001b[1;33m)\u001b[0m\u001b[1;33m\u001b[0m\u001b[1;33m\u001b[0m\u001b[0m\n\u001b[0m\u001b[0;32m      2\u001b[0m \u001b[0mmonth\u001b[0m \u001b[1;33m=\u001b[0m \u001b[0mint\u001b[0m\u001b[1;33m(\u001b[0m\u001b[0mdate_str\u001b[0m\u001b[1;33m[\u001b[0m\u001b[1;36m4\u001b[0m\u001b[1;33m:\u001b[0m\u001b[1;36m6\u001b[0m\u001b[1;33m:\u001b[0m\u001b[1;33m]\u001b[0m\u001b[1;33m)\u001b[0m\u001b[1;33m\u001b[0m\u001b[1;33m\u001b[0m\u001b[0m\n\u001b[0;32m      3\u001b[0m \u001b[0mday\u001b[0m \u001b[1;33m=\u001b[0m \u001b[0mint\u001b[0m\u001b[1;33m(\u001b[0m\u001b[0mdate_str\u001b[0m\u001b[1;33m[\u001b[0m\u001b[1;36m6\u001b[0m\u001b[1;33m:\u001b[0m\u001b[1;36m8\u001b[0m\u001b[1;33m:\u001b[0m\u001b[1;33m]\u001b[0m\u001b[1;33m)\u001b[0m\u001b[1;33m\u001b[0m\u001b[1;33m\u001b[0m\u001b[0m\n",
      "\u001b[1;31mNameError\u001b[0m: name 'date_str' is not defined"
     ]
    }
   ],
   "source": [
    "year = int(date_str[:4:])\n",
    "month = int(date_str[4:6:])\n",
    "day = int(date_str[6:8:])"
   ]
  },
  {
   "cell_type": "code",
   "execution_count": 7,
   "metadata": {},
   "outputs": [
    {
     "data": {
      "text/plain": [
       "0"
      ]
     },
     "execution_count": 7,
     "metadata": {},
     "output_type": "execute_result"
    }
   ],
   "source": [
    "(datetime.date(year=2019, month=12, day=27) -  datetime.date(year=2019, month=12, day=27)).days"
   ]
  },
  {
   "cell_type": "code",
   "execution_count": 9,
   "metadata": {},
   "outputs": [],
   "source": [
    "\n",
    "\n",
    "for file_name in file_name_list:\n",
    "    date_str = re.search(r'[0-9]{8}', file_name).group()\n",
    "\n",
    "    year = int(date_str[:4:])\n",
    "    month = int(date_str[4:6:])\n",
    "    day = int(date_str[6:8:])\n",
    "    \n",
    "    yesterday = (datetime.date(year=year, month=month, day=day) + datetime.timedelta(days=-1)).strftime('%Y%m%d')\n",
    "    tomorrow = (datetime.date(year=year, month=month, day=day) + datetime.timedelta(days=1)).strftime('%Y%m%d')\n",
    "    \n",
    "    \n",
    "    days = (datetime.date(year=year, month=month, day=day) - datetime.date(year=2019, month=12, day=27)).days\n",
    "    \n",
    "    \n",
    "    add_text = \\\n",
    "    ['---',\n",
    "    '\\n',\n",
    "    'documentclass: bxjsarticle',\n",
    "    '\\n',\n",
    "    'title: %s'%date_str,\n",
    "    '\\n',\n",
    "    'yesterday: %s'%yesterday,\n",
    "    '\\n',\n",
    "    'tomorrow: %s'%tomorrow,\n",
    "     '\\n',\n",
    "     'days: %s'%days,\n",
    "     '\\n',\n",
    "    'author: Takala',\n",
    "    '\\n',\n",
    "    'header-includes:',\n",
    "    '\\n',\n",
    "    '  - \\\\usepackage[margin=1in]{geometry}',\n",
    "    '\\n',\n",
    "    '  - \\\\usepackage[ISO]{diffcoeff}',\n",
    "    '\\n',\n",
    "    '  - \\\\usepackage{pxfonts}',\n",
    "    '\\n','---','\\n',]\n",
    "    \n",
    "    f = open(file_name, encoding='utf-8')\n",
    "    text = f.readlines()\n",
    "    f.close()\n",
    "    \n",
    "    f = open('../source/' + date_str + '.md', 'w', encoding='utf-8')\n",
    "    for str_line in add_text + text[1::]:\n",
    "        f.write(str_line)\n",
    "    f.close()\n",
    "    "
   ]
  },
  {
   "cell_type": "code",
   "execution_count": 64,
   "metadata": {},
   "outputs": [],
   "source": [
    "import subprocess"
   ]
  },
  {
   "cell_type": "code",
   "execution_count": 86,
   "metadata": {},
   "outputs": [],
   "source": [
    "res = subprocess.run(['..\\\\build.bat', date_str], shell=False, stdout=subprocess.PIPE, stderr=subprocess.STDOUT)"
   ]
  },
  {
   "cell_type": "code",
   "execution_count": 87,
   "metadata": {},
   "outputs": [
    {
     "data": {
      "text/plain": [
       "CompletedProcess(args=['..\\\\build.bat', '20210420'], returncode=1, stdout=b'\\r\\nC:\\\\Users\\\\TAKALA\\\\Desktop\\\\work\\\\20210420_PandocBlog\\\\work>set filename=20210420 \\r\\n\\r\\nC:\\\\Users\\\\TAKALA\\\\Desktop\\\\work\\\\20210420_PandocBlog\\\\work>pandoc --template=template.html --self-contained -s --mathjax=js/loadMathjax.js source/20210420.md -o docs/20210420.html \\r\\nCould not find data file templates\\\\template.html\\r\\n\\r\\nC:\\\\Users\\\\TAKALA\\\\Desktop\\\\work\\\\20210420_PandocBlog\\\\work>chcp 65001 \\r\\nActive code page: 65001\\r\\n\\r\\nC:\\\\Users\\\\TAKALA\\\\Desktop\\\\work\\\\20210420_PandocBlog\\\\work>FOR /F \"usebackq delims=\" %i in (`FINDSTR /C:\"title:\" source\\\\\\\\20210420.md`) DO @SET title=%i \\r\\nFINDSTR: Cannot open source\\\\\\\\20210420.md\\r\\n\\r\\nC:\\\\Users\\\\TAKALA\\\\Desktop\\\\work\\\\20210420_PandocBlog\\\\work>set text=* [title: =1.html) \\r\\n\\r\\nC:\\\\Users\\\\TAKALA\\\\Desktop\\\\work\\\\20210420_PandocBlog\\\\work>echo * [title: =1.html)  1>>source\\\\index.md \\r\\nThe system cannot find the path specified.\\r\\n\\r\\nC:\\\\Users\\\\TAKALA\\\\Desktop\\\\work\\\\20210420_PandocBlog\\\\work>chcp 932 \\r\\n\\x8c\\xbb\\x8d\\xdd\\x82\\xcc\\x83R\\x81[\\x83h \\x83y\\x81[\\x83W: 932\\r\\npandoc: source/index.md: openBinaryFile: does not exist (No such file or directory)\\n')"
      ]
     },
     "execution_count": 87,
     "metadata": {},
     "output_type": "execute_result"
    }
   ],
   "source": [
    "res"
   ]
  },
  {
   "cell_type": "code",
   "execution_count": null,
   "metadata": {},
   "outputs": [],
   "source": []
  }
 ],
 "metadata": {
  "kernelspec": {
   "display_name": "Python 3",
   "language": "python",
   "name": "python3"
  },
  "language_info": {
   "codemirror_mode": {
    "name": "ipython",
    "version": 3
   },
   "file_extension": ".py",
   "mimetype": "text/x-python",
   "name": "python",
   "nbconvert_exporter": "python",
   "pygments_lexer": "ipython3",
   "version": "3.7.6"
  }
 },
 "nbformat": 4,
 "nbformat_minor": 4
}
